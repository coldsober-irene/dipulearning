{
  "nbformat": 4,
  "nbformat_minor": 0,
  "metadata": {
    "colab": {
      "provenance": [],
      "authorship_tag": "ABX9TyMhikofE9TFBixa4rgyk6fK",
      "include_colab_link": true
    },
    "kernelspec": {
      "name": "python3",
      "display_name": "Python 3"
    },
    "language_info": {
      "name": "python"
    }
  },
  "cells": [
    {
      "cell_type": "markdown",
      "metadata": {
        "id": "view-in-github",
        "colab_type": "text"
      },
      "source": [
        "<a href=\"https://colab.research.google.com/github/coldsober-irene/dipulearning/blob/main/CNN.ipynb\" target=\"_parent\"><img src=\"https://colab.research.google.com/assets/colab-badge.svg\" alt=\"Open In Colab\"/></a>"
      ]
    },
    {
      "cell_type": "code",
      "execution_count": null,
      "metadata": {
        "id": "I5OmKb7DYSrW"
      },
      "outputs": [],
      "source": []
    },
    {
      "cell_type": "code",
      "source": [
        "from google.colab import drive\n",
        "drive.mount('/content/drive')"
      ],
      "metadata": {
        "id": "P6mssPPcYmoK"
      },
      "execution_count": null,
      "outputs": []
    },
    {
      "cell_type": "code",
      "source": [
        "import os, cv2, shutil\n",
        "from matplotlib import pyplot as plt\n",
        "import random, pickle, numpy as np"
      ],
      "metadata": {
        "id": "M6ozMY1hZWos"
      },
      "execution_count": 29,
      "outputs": []
    },
    {
      "cell_type": "code",
      "source": [],
      "metadata": {
        "id": "CcpeuiKgZvCO"
      },
      "execution_count": 8,
      "outputs": []
    },
    {
      "cell_type": "code",
      "source": [
        "dir = '/content/drive/MyDrive/Dataset'\n",
        "categories = [category for category in os.listdir(dir)]\n",
        "imsize = 220\n",
        "print(\"CATEGORIES: \", categories)\n",
        "images_needed = []\n",
        "for category in categories:\n",
        "  cat_path = os.path.join(dir, category)\n",
        "  class_ = categories.index(category)\n",
        "  for im in os.listdir(cat_path):\n",
        "    image = os.path.join(cat_path, im)\n",
        "    im_array = cv2.imread(image, cv2.IMREAD_GRAYSCALE)\n",
        "    same_size = cv2.resize(im_array, (imsize, imsize))\n",
        "    images_needed.append([same_size, class_])\n",
        "    # plt.imshow(same_size, cmap = 'gray')\n",
        "    # plt.show()\n",
        "\n",
        "random.shuffle(images_needed)\n",
        "train_data = np.array([row[0] for row in images_needed]).reshape(-1, imsize, imsize, 1)\n",
        "labels = np.array([row[1] for row in images_needed])\n",
        "\n"
      ],
      "metadata": {
        "colab": {
          "base_uri": "https://localhost:8080/"
        },
        "id": "AwMjDrFFZY4m",
        "outputId": "e6396846-a3ba-4c96-c633-90e740fe6be8"
      },
      "execution_count": 60,
      "outputs": [
        {
          "output_type": "stream",
          "name": "stdout",
          "text": [
            "CATEGORIES:  ['Motorcycle', 'Car', 'Auto', '.ipynb_checkpoints']\n"
          ]
        }
      ]
    },
    {
      "cell_type": "code",
      "source": [
        "\n",
        "with open(os.path.join(dir,\"train.pickle\"), 'wb') as f:\n",
        "  pickle.dump(train_data, f)\n",
        "\n",
        "with open(os.path.join(dir,\"labels.pickle\"), 'wb') as f:\n",
        "  pickle.dump(labels, f)"
      ],
      "metadata": {
        "id": "ckHS5N-GbWce"
      },
      "execution_count": 61,
      "outputs": []
    },
    {
      "cell_type": "code",
      "source": [
        "\n",
        "train = pickle.load(open(os.path.join(dir,\"train.pickle\"), 'rb'))\n",
        "lab = pickle.load(open(os.path.join(dir,\"labels.pickle\"), 'rb'))\n",
        "\n",
        "train = np.array(train)\n",
        "train = train / 255\n"
      ],
      "metadata": {
        "id": "DzjQ-777zHxi"
      },
      "execution_count": 62,
      "outputs": []
    },
    {
      "cell_type": "code",
      "source": [
        "train.shape, lab.shape"
      ],
      "metadata": {
        "colab": {
          "base_uri": "https://localhost:8080/"
        },
        "id": "m2azCDDn8zob",
        "outputId": "ab06c33d-ba07-4037-c11c-7ddf730ceabe"
      },
      "execution_count": 66,
      "outputs": [
        {
          "output_type": "execute_result",
          "data": {
            "text/plain": [
              "((1326, 220, 220, 1), (1326,))"
            ]
          },
          "metadata": {},
          "execution_count": 66
        }
      ]
    },
    {
      "cell_type": "code",
      "source": [
        "import tensorflow as tf\n",
        "from tensorflow.keras.models import Sequential\n",
        "from tensorflow.keras.layers import Dense, Conv2D, MaxPooling2D, Activation, Flatten\n",
        "from tensorflow.keras.losses import CategoricalCrossentropy\n",
        "from tensorflow.keras.utils import to_categorical\n"
      ],
      "metadata": {
        "id": "dUzUIwPr26bE"
      },
      "execution_count": 70,
      "outputs": []
    },
    {
      "cell_type": "markdown",
      "source": [
        "#(batch_size, height, width, channels)"
      ],
      "metadata": {
        "id": "kNJRtu14EvFD"
      }
    },
    {
      "cell_type": "code",
      "source": [
        "model = Sequential()\n",
        "# LAYER 1\n",
        "model.add(Conv2D(64, (3, 3), input_shape = train.shape[1:]))\n",
        "model.add(Activation('relu'))\n",
        "model.add(MaxPooling2D(pool_size = (2,2)))\n",
        "# LAYER 2\n",
        "model.add(Conv2D(128, (3, 3)))\n",
        "model.add(Activation('relu'))\n",
        "model.add(MaxPooling2D(pool_size = (2,2)))\n",
        "# LAYER 3\n",
        "model.add(Conv2D(128, (3, 3)))\n",
        "model.add(Activation('relu'))\n",
        "model.add(MaxPooling2D(pool_size = (2,2)))\n",
        "# LAYER 4\n",
        "model.add(Flatten())\n",
        "model.add(Dense(128))\n",
        "\n",
        "# LAYER 5\n",
        "model.add(Dense(3))\n",
        "model.add(Activation('softmax'))\n",
        "model.compile(optimizer = 'adam',\n",
        "              loss = 'categorical_crossentropy',\n",
        "              metrics = ['accuracy'])\n",
        "lab = to_categorical(lab)\n",
        "model.fit(train, lab,batch_size=32, validation_split=0.2)"
      ],
      "metadata": {
        "colab": {
          "base_uri": "https://localhost:8080/"
        },
        "id": "AK4LdsvD8O7G",
        "outputId": "bea86090-e8bd-4e22-8661-046c31d40f26"
      },
      "execution_count": 71,
      "outputs": [
        {
          "output_type": "stream",
          "name": "stdout",
          "text": [
            "38/38 [==============================] - 316s 8s/step - loss: 1.2240 - accuracy: 0.5901 - val_loss: 0.4982 - val_accuracy: 0.7744\n"
          ]
        },
        {
          "output_type": "execute_result",
          "data": {
            "text/plain": [
              "<keras.src.callbacks.History at 0x7d225ff847f0>"
            ]
          },
          "metadata": {},
          "execution_count": 71
        }
      ]
    }
  ]
}