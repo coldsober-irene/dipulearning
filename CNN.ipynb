{
  "nbformat": 4,
  "nbformat_minor": 0,
  "metadata": {
    "colab": {
      "provenance": [],
      "gpuType": "T4",
      "authorship_tag": "ABX9TyMyFnxkaHpWBnfnhwOC5Lsk",
      "include_colab_link": true
    },
    "kernelspec": {
      "name": "python3",
      "display_name": "Python 3"
    },
    "language_info": {
      "name": "python"
    },
    "accelerator": "GPU"
  },
  "cells": [
    {
      "cell_type": "markdown",
      "metadata": {
        "id": "view-in-github",
        "colab_type": "text"
      },
      "source": [
        "<a href=\"https://colab.research.google.com/github/coldsober-irene/dipulearning/blob/main/CNN.ipynb\" target=\"_parent\"><img src=\"https://colab.research.google.com/assets/colab-badge.svg\" alt=\"Open In Colab\"/></a>"
      ]
    },
    {
      "cell_type": "code",
      "execution_count": 3,
      "metadata": {
        "id": "I5OmKb7DYSrW"
      },
      "outputs": [],
      "source": []
    },
    {
      "cell_type": "code",
      "source": [
        "from google.colab import drive\n",
        "drive.mount('/content/drive')"
      ],
      "metadata": {
        "colab": {
          "base_uri": "https://localhost:8080/"
        },
        "id": "P6mssPPcYmoK",
        "outputId": "3264ba2c-9e55-4c52-b43e-d901fc21b640"
      },
      "execution_count": 4,
      "outputs": [
        {
          "output_type": "stream",
          "name": "stdout",
          "text": [
            "Drive already mounted at /content/drive; to attempt to forcibly remount, call drive.mount(\"/content/drive\", force_remount=True).\n"
          ]
        }
      ]
    },
    {
      "cell_type": "code",
      "source": [
        "import os, cv2, shutil\n",
        "from matplotlib import pyplot as plt\n",
        "import random, pickle, numpy as np"
      ],
      "metadata": {
        "id": "M6ozMY1hZWos"
      },
      "execution_count": 5,
      "outputs": []
    },
    {
      "cell_type": "code",
      "source": [],
      "metadata": {
        "id": "CcpeuiKgZvCO"
      },
      "execution_count": 5,
      "outputs": []
    },
    {
      "cell_type": "code",
      "source": [
        "dir = '/content/drive/MyDrive/Dataset'\n",
        "categories = [category for category in os.listdir(dir)]\n",
        "imsize = 220\n",
        "print(\"CATEGORIES: \", categories)\n",
        "images_needed = []\n",
        "for category in categories:\n",
        "  if '.' not in category:\n",
        "    cat_path = os.path.join(dir, category)\n",
        "    class_ = categories.index(category)\n",
        "    for im in os.listdir(cat_path):\n",
        "      image = os.path.join(cat_path, im)\n",
        "      im_array = cv2.imread(image, cv2.IMREAD_GRAYSCALE)\n",
        "      same_size = cv2.resize(im_array, (imsize, imsize))\n",
        "      images_needed.append([same_size, class_])\n",
        "      # plt.imshow(same_size, cmap = 'gray')\n",
        "      # plt.show()\n",
        "\n",
        "random.shuffle(images_needed)\n",
        "train_data = np.array([row[0] for row in images_needed]).reshape(-1, imsize, imsize, 1)\n",
        "labels = np.array([row[1] for row in images_needed])\n",
        "\n"
      ],
      "metadata": {
        "colab": {
          "base_uri": "https://localhost:8080/"
        },
        "id": "AwMjDrFFZY4m",
        "outputId": "3f43c9ee-fc59-48ed-9acc-e2e3a03985dd"
      },
      "execution_count": 6,
      "outputs": [
        {
          "output_type": "stream",
          "name": "stdout",
          "text": [
            "CATEGORIES:  ['Car', 'Auto', 'Motorcycle', '.ipynb_checkpoints', 'train.pickle', 'labels.pickle']\n"
          ]
        }
      ]
    },
    {
      "cell_type": "code",
      "source": [
        "\n",
        "with open(os.path.join(dir,\"train.pickle\"), 'wb') as f:\n",
        "  pickle.dump(train_data, f)\n",
        "\n",
        "with open(os.path.join(dir,\"labels.pickle\"), 'wb') as f:\n",
        "  pickle.dump(labels, f)"
      ],
      "metadata": {
        "id": "ckHS5N-GbWce"
      },
      "execution_count": 7,
      "outputs": []
    },
    {
      "cell_type": "code",
      "source": [
        "\n",
        "train = pickle.load(open(os.path.join(dir,\"train.pickle\"), 'rb'))\n",
        "lab = pickle.load(open(os.path.join(dir,\"labels.pickle\"), 'rb'))\n",
        "\n",
        "train = np.array(train)\n",
        "train = train / 255\n"
      ],
      "metadata": {
        "id": "DzjQ-777zHxi"
      },
      "execution_count": 8,
      "outputs": []
    },
    {
      "cell_type": "code",
      "source": [
        "train.shape, lab.shape"
      ],
      "metadata": {
        "colab": {
          "base_uri": "https://localhost:8080/"
        },
        "id": "m2azCDDn8zob",
        "outputId": "af22c941-7df6-42b6-e842-0be5036e7336"
      },
      "execution_count": 9,
      "outputs": [
        {
          "output_type": "execute_result",
          "data": {
            "text/plain": [
              "((1326, 220, 220, 1), (1326,))"
            ]
          },
          "metadata": {},
          "execution_count": 9
        }
      ]
    },
    {
      "cell_type": "code",
      "source": [
        "import tensorflow as tf\n",
        "from tensorflow.keras.models import Sequential\n",
        "from tensorflow.keras.layers import Dense, Conv2D, MaxPooling2D, Activation, Flatten\n",
        "from tensorflow.keras.losses import CategoricalCrossentropy\n",
        "from tensorflow.keras.utils import to_categorical\n"
      ],
      "metadata": {
        "id": "dUzUIwPr26bE"
      },
      "execution_count": 10,
      "outputs": []
    },
    {
      "cell_type": "markdown",
      "source": [
        "#(batch_size, height, width, channels)"
      ],
      "metadata": {
        "id": "kNJRtu14EvFD"
      }
    },
    {
      "cell_type": "code",
      "source": [
        "model = Sequential()\n",
        "# LAYER 1\n",
        "model.add(Conv2D(64, (3, 3), input_shape = train.shape[1:]))\n",
        "model.add(Activation('relu'))\n",
        "model.add(MaxPooling2D(pool_size = (2,2)))\n",
        "# LAYER 2\n",
        "model.add(Conv2D(128, (3, 3)))\n",
        "model.add(Activation('relu'))\n",
        "model.add(MaxPooling2D(pool_size = (2,2)))\n",
        "# LAYER 3\n",
        "model.add(Conv2D(128, (3, 3)))\n",
        "model.add(Activation('relu'))\n",
        "model.add(MaxPooling2D(pool_size = (2,2)))\n",
        "# LAYER 4\n",
        "model.add(Flatten())\n",
        "model.add(Dense(128))\n",
        "\n",
        "# LAYER 5\n",
        "model.add(Dense(3))\n",
        "model.add(Activation('softmax'))\n",
        "model.compile(optimizer = 'adam',\n",
        "              loss = 'categorical_crossentropy',\n",
        "              metrics = ['accuracy'])\n",
        "lab = to_categorical(lab)\n",
        "model.fit(train, lab,batch_size=32, validation_split=0.2, epochs = 10)"
      ],
      "metadata": {
        "colab": {
          "base_uri": "https://localhost:8080/"
        },
        "id": "AK4LdsvD8O7G",
        "outputId": "2be2abf6-3345-4813-ec69-6ad5cda28a48"
      },
      "execution_count": 11,
      "outputs": [
        {
          "output_type": "stream",
          "name": "stdout",
          "text": [
            "Epoch 1/10\n",
            "34/34 [==============================] - 12s 133ms/step - loss: 1.5078 - accuracy: 0.5868 - val_loss: 0.6632 - val_accuracy: 0.7406\n",
            "Epoch 2/10\n",
            "34/34 [==============================] - 3s 85ms/step - loss: 0.4485 - accuracy: 0.8217 - val_loss: 0.5845 - val_accuracy: 0.7256\n",
            "Epoch 3/10\n",
            "34/34 [==============================] - 3s 89ms/step - loss: 0.2678 - accuracy: 0.9019 - val_loss: 0.4467 - val_accuracy: 0.8459\n",
            "Epoch 4/10\n",
            "34/34 [==============================] - 3s 88ms/step - loss: 0.1601 - accuracy: 0.9387 - val_loss: 0.4104 - val_accuracy: 0.8722\n",
            "Epoch 5/10\n",
            "34/34 [==============================] - 3s 86ms/step - loss: 0.0494 - accuracy: 0.9849 - val_loss: 0.4522 - val_accuracy: 0.8797\n",
            "Epoch 6/10\n",
            "34/34 [==============================] - 3s 88ms/step - loss: 0.0191 - accuracy: 0.9962 - val_loss: 0.5359 - val_accuracy: 0.8797\n",
            "Epoch 7/10\n",
            "34/34 [==============================] - 3s 85ms/step - loss: 0.0127 - accuracy: 0.9972 - val_loss: 0.4866 - val_accuracy: 0.8947\n",
            "Epoch 8/10\n",
            "34/34 [==============================] - 3s 89ms/step - loss: 0.0155 - accuracy: 0.9991 - val_loss: 0.6356 - val_accuracy: 0.8684\n",
            "Epoch 9/10\n",
            "34/34 [==============================] - 3s 90ms/step - loss: 0.0041 - accuracy: 1.0000 - val_loss: 0.6227 - val_accuracy: 0.8797\n",
            "Epoch 10/10\n",
            "34/34 [==============================] - 3s 90ms/step - loss: 0.0018 - accuracy: 1.0000 - val_loss: 0.6310 - val_accuracy: 0.8910\n"
          ]
        },
        {
          "output_type": "execute_result",
          "data": {
            "text/plain": [
              "<keras.src.callbacks.History at 0x796f46129240>"
            ]
          },
          "metadata": {},
          "execution_count": 11
        }
      ]
    }
  ]
}